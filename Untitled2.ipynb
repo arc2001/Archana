{
  "nbformat": 4,
  "nbformat_minor": 0,
  "metadata": {
    "colab": {
      "provenance": [],
      "authorship_tag": "ABX9TyNlsyPfMQJN/jYPewsJF1Qt",
      "include_colab_link": true
    },
    "kernelspec": {
      "name": "python3",
      "display_name": "Python 3"
    },
    "language_info": {
      "name": "python"
    }
  },
  "cells": [
    {
      "cell_type": "markdown",
      "metadata": {
        "id": "view-in-github",
        "colab_type": "text"
      },
      "source": [
        "<a href=\"https://colab.research.google.com/github/arc2001/Archana/blob/main/Untitled2.ipynb\" target=\"_parent\"><img src=\"https://colab.research.google.com/assets/colab-badge.svg\" alt=\"Open In Colab\"/></a>"
      ]
    },
    {
      "cell_type": "code",
      "execution_count": null,
      "metadata": {
        "colab": {
          "base_uri": "https://localhost:8080/",
          "height": 529
        },
        "id": "7aqMuO23j9gs",
        "outputId": "986a8cac-6a1b-4110-906e-52b7dad741de"
      },
      "outputs": [
        {
          "output_type": "display_data",
          "data": {
            "text/plain": [
              "<PIL.Image.Image image mode=L size=512x512>"
            ],
            "image/png": "[encoded data removed]"
          },
          "metadata": {}
        }
      ],
      "source": [
        "import cv2\n",
        "from PIL import ImageOps\n",
        "from google.colab.patches import cv2_imshow\n",
        "import matplotlib.pyplot as plt\n",
        "import skimage\n",
        "from skimage import measure, morphology\n",
        "from skimage.color import label2rgb\n",
        "from skimage.measure import regionprops\n",
        "from PIL import Image, ImageDraw, ImageOps\n",
        "img = cv2.imread('/content/1.bmp', 0)\n",
        "img = cv2.threshold(img, 127, 255, cv2.THRESH_BINARY)[1]\n",
        "# Extract Blobs\n",
        "blobs = img > img.mean()\n",
        "blobs_labels = measure.label(blobs, background=1)\n",
        "image_label_overlay = label2rgb(blobs_labels, image=img,bg_label=0)\n",
        "total_area = 0\n",
        "counter = 0\n",
        "average = 0.0\n",
        "for region in regionprops(blobs_labels):\n",
        "    if region.area >70:\n",
        "        total_area = total_area + region.area\n",
        "        counter = counter + 1\n",
        "# Threshold\n",
        "average = (total_area/counter)\n",
        "a4_constant = ((average/100.0)*250.0)+100\n",
        "b = morphology.remove_small_objects(blobs_labels, a4_constant)\n",
        "plt.imsave('pre_version.png', b)\n",
        "\n",
        "# read the pre-version\n",
        "img2 = cv2.imread('pre_version.png',cv2.IMREAD_GRAYSCALE)\n",
        "img2 = cv2.threshold(img2, 50, 250, cv2.THRESH_BINARY_INV)[1]\n",
        "cv2_imshow(img2)\n",
        "plt.imsave('/content/fingerprints.png',img2)"
      ]
    },
    {
      "cell_type": "code",
      "source": [
        "import cv2\n",
        "import numpy as np\n",
        "import tensorflow as tf\n",
        "from tensorflow.keras.layers import Conv2D, BatchNormalization, ReLU\n",
        "from tensorflow.keras.models import Sequential\n",
        "\n",
        "# Load the fingerprint image in JPG format\n",
        "img_path = '/content/1.bmp'\n",
        "img = cv2.imread(img_path, cv2.IMREAD_GRAYSCALE)  # Read image in grayscale\n",
        "\n",
        "# Define a Sequential model\n",
        "model = Sequential()\n",
        "\n",
        "# Add a Convolutional layer with Batch Normalization and ReLU\n",
        "model.add(Conv2D(32, (3, 3), padding='same', input_shape=(img.shape[0], img.shape[1], 1)))\n",
        "model.add(BatchNormalization())\n",
        "model.add(ReLU())\n",
        "\n",
        "# Calculate the feature map\n",
        "feature_map = model.predict(img.reshape(1, img.shape[0], img.shape[1], 1))\n",
        "\n",
        "# Normalize the feature map for display\n",
        "feature_map -= np.min(feature_map)\n",
        "feature_map /= np.max(feature_map)\n",
        "\n",
        "# Convert the feature map to an image (you can adjust the data type as needed)\n",
        "feature_map_image = (feature_map[0, :, :, 0] * 255).astype(np.uint8)\n",
        "\n",
        "# Display the feature map image\n",
        "cv2.imshow('Feature Map', feature_map_image)\n",
        "cv2.waitKey(0)\n",
        "cv2.destroyAllWindows()\n"
      ],
      "metadata": {
        "colab": {
          "base_uri": "https://localhost:8080/",
          "height": 459
        },
        "id": "MU84qi-Tx3g-",
        "outputId": "456a2f93-6ed3-4b15-a6ea-ba055192451f"
      },
      "execution_count": null,
      "outputs": [
        {
          "output_type": "stream",
          "name": "stdout",
          "text": [
            "1/1 [==============================] - 0s 484ms/step\n"
          ]
        },
        {
          "output_type": "error",
          "ename": "DisabledFunctionError",
          "evalue": "ignored",
          "traceback": [
            "\u001b[0;31m---------------------------------------------------------------------------\u001b[0m",
            "\u001b[0;31mDisabledFunctionError\u001b[0m                     Traceback (most recent call last)",
            "\u001b[0;32m<ipython-input-5-bf8cfcf21083>\u001b[0m in \u001b[0;36m<cell line: 30>\u001b[0;34m()\u001b[0m\n\u001b[1;32m     28\u001b[0m \u001b[0;34m\u001b[0m\u001b[0m\n\u001b[1;32m     29\u001b[0m \u001b[0;31m# Display the feature map image\u001b[0m\u001b[0;34m\u001b[0m\u001b[0;34m\u001b[0m\u001b[0m\n\u001b[0;32m---> 30\u001b[0;31m \u001b[0mcv2\u001b[0m\u001b[0;34m.\u001b[0m\u001b[0mimshow\u001b[0m\u001b[0;34m(\u001b[0m\u001b[0;34m'Feature Map'\u001b[0m\u001b[0;34m,\u001b[0m \u001b[0mfeature_map_image\u001b[0m\u001b[0;34m)\u001b[0m\u001b[0;34m\u001b[0m\u001b[0;34m\u001b[0m\u001b[0m\n\u001b[0m\u001b[1;32m     31\u001b[0m \u001b[0mcv2\u001b[0m\u001b[0;34m.\u001b[0m\u001b[0mwaitKey\u001b[0m\u001b[0;34m(\u001b[0m\u001b[0;36m0\u001b[0m\u001b[0;34m)\u001b[0m\u001b[0;34m\u001b[0m\u001b[0;34m\u001b[0m\u001b[0m\n\u001b[1;32m     32\u001b[0m \u001b[0mcv2\u001b[0m\u001b[0;34m.\u001b[0m\u001b[0mdestroyAllWindows\u001b[0m\u001b[0;34m(\u001b[0m\u001b[0;34m)\u001b[0m\u001b[0;34m\u001b[0m\u001b[0;34m\u001b[0m\u001b[0m\n",
            "\u001b[0;32m/usr/local/lib/python3.10/dist-packages/google/colab/_import_hooks/_cv2.py\u001b[0m in \u001b[0;36mwrapped\u001b[0;34m(*args, **kwargs)\u001b[0m\n\u001b[1;32m     46\u001b[0m   \u001b[0;32mdef\u001b[0m \u001b[0mwrapped\u001b[0m\u001b[0;34m(\u001b[0m\u001b[0;34m*\u001b[0m\u001b[0margs\u001b[0m\u001b[0;34m,\u001b[0m \u001b[0;34m**\u001b[0m\u001b[0mkwargs\u001b[0m\u001b[0;34m)\u001b[0m\u001b[0;34m:\u001b[0m\u001b[0;34m\u001b[0m\u001b[0;34m\u001b[0m\u001b[0m\n\u001b[1;32m     47\u001b[0m     \u001b[0;32mif\u001b[0m \u001b[0;32mnot\u001b[0m \u001b[0mos\u001b[0m\u001b[0;34m.\u001b[0m\u001b[0menviron\u001b[0m\u001b[0;34m.\u001b[0m\u001b[0mget\u001b[0m\u001b[0;34m(\u001b[0m\u001b[0menv_var\u001b[0m\u001b[0;34m,\u001b[0m \u001b[0;32mFalse\u001b[0m\u001b[0;34m)\u001b[0m\u001b[0;34m:\u001b[0m\u001b[0;34m\u001b[0m\u001b[0;34m\u001b[0m\u001b[0m\n\u001b[0;32m---> 48\u001b[0;31m       \u001b[0;32mraise\u001b[0m \u001b[0mDisabledFunctionError\u001b[0m\u001b[0;34m(\u001b[0m\u001b[0mmessage\u001b[0m\u001b[0;34m,\u001b[0m \u001b[0mname\u001b[0m \u001b[0;32mor\u001b[0m \u001b[0mfunc\u001b[0m\u001b[0;34m.\u001b[0m\u001b[0m__name__\u001b[0m\u001b[0;34m)\u001b[0m\u001b[0;34m\u001b[0m\u001b[0;34m\u001b[0m\u001b[0m\n\u001b[0m\u001b[1;32m     49\u001b[0m     \u001b[0;32mreturn\u001b[0m \u001b[0mfunc\u001b[0m\u001b[0;34m(\u001b[0m\u001b[0;34m*\u001b[0m\u001b[0margs\u001b[0m\u001b[0;34m,\u001b[0m \u001b[0;34m**\u001b[0m\u001b[0mkwargs\u001b[0m\u001b[0;34m)\u001b[0m\u001b[0;34m\u001b[0m\u001b[0;34m\u001b[0m\u001b[0m\n\u001b[1;32m     50\u001b[0m \u001b[0;34m\u001b[0m\u001b[0m\n",
            "\u001b[0;31mDisabledFunctionError\u001b[0m: cv2.imshow() is disabled in Colab, because it causes Jupyter sessions\nto crash; see https://github.com/jupyter/notebook/issues/3935.\nAs a substitution, consider using\n  from google.colab.patches import cv2_imshow\n"
          ],
          "errorDetails": {
            "actions": [
              {
                "action": "open_snippet",
                "actionText": "Search Snippets for cv2.imshow",
                "snippetFilter": "cv2.imshow"
              }
            ]
          }
        }
      ]
    },
    {
      "cell_type": "code",
      "source": [
        "import tensorflow as tf\n",
        "from tensorflow.keras.layers import Conv2D, BatchNormalization, ReLU, MaxPooling2D, Flatten, Dense\n",
        "from tensorflow.keras.models import Sequential\n",
        "\n",
        "# Define a Sequential model\n",
        "model = Sequential()\n",
        "\n",
        "# Add a Convolutional layer with Batch Normalization and ReLU activation\n",
        "model.add(Conv2D(32, (3, 3), padding='same', input_shape=(64, 64, 3)))\n",
        "model.add(BatchNormalization())\n",
        "model.add(ReLU())\n",
        "\n",
        "# Add a MaxPooling layer\n",
        "model.add(MaxPooling2D(pool_size=(2, 2))\n",
        "\n",
        "# Add another Convolutional layer with Batch Normalization and ReLU activation\n",
        "model.add(Conv2D(64, (3, 3), padding='same'))\n",
        "model.add(BatchNormalization())\n",
        "model.add(ReLU())\n",
        "\n",
        "# Add another MaxPooling layer\n",
        "model.add.MaxPooling2D(pool_size=(2, 2))\n",
        "\n",
        "# Flatten the feature map to feed it to a fully connected layer\n",
        "model.add(Flatten())\n",
        "\n",
        "# Add a fully connected layer with Batch Normalization and ReLU activation\n",
        "model.add(Dense(128))\n",
        "model.add(BatchNormalization())\n",
        "model.add(ReLU())\n",
        "\n",
        "# Add the output layer\n",
        "model.add(Dense(num_classes, activation='softmax'))\n",
        "\n",
        "# Compile the model\n",
        "model.compile(loss='categorical_crossentropy', optimizer='adam', metrics=['accuracy'])\n",
        "\n",
        "# Now, you can train and evaluate the model using your dataset\n"
      ],
      "metadata": {
        "colab": {
          "base_uri": "https://localhost:8080/",
          "height": 145
        },
        "id": "cctD9_Kry3R_",
        "outputId": "fac5d610-9a4e-441a-9d63-0db4b86fb023"
      },
      "execution_count": null,
      "outputs": [
        {
          "output_type": "error",
          "ename": "SyntaxError",
          "evalue": "ignored",
          "traceback": [
            "\u001b[0;36m  File \u001b[0;32m\"<ipython-input-8-606e465013be>\"\u001b[0;36m, line \u001b[0;32m14\u001b[0m\n\u001b[0;31m    model.add(MaxPooling2D(pool_size=(2, 2))\u001b[0m\n\u001b[0m             ^\u001b[0m\n\u001b[0;31mSyntaxError\u001b[0m\u001b[0;31m:\u001b[0m '(' was never closed\n"
          ]
        }
      ]
    },
    {
      "cell_type": "code",
      "source": [
        "import numpy as np\n",
        "import tensorflow as tf\n",
        "from tensorflow.keras import layers, models\n",
        "\n",
        "# Define the DeepPore network\n",
        "def create_deep_pore_network(input_shape, d):\n",
        "    model = models.Sequential()\n",
        "\n",
        "    # Initial convolution layer\n",
        "    model.add(layers.Conv2D(64, (3, 3), padding='same', input_shape=input_shape))\n",
        "    model.add(layers.BatchNormalization())\n",
        "    model.add(layers.Activation('relu'))\n",
        "\n",
        "    # Intermediate convolution layers (1 to d-1)\n",
        "    for _ in range(d - 1):\n",
        "        model.add(layers.Conv2D(64, (3, 3), padding='same'))\n",
        "        model.add(layers.BatchNormalization())\n",
        "        model.add(layers.Activation('relu'))\n",
        "\n",
        "    # Final convolution layer (layer d)\n",
        "    model.add(layers.Conv2D(64, (3, 3), padding='same'))\n",
        "\n",
        "    return model\n",
        "\n",
        "# Define a function to compute soft labels\n",
        "def compute_soft_labels(pore_coords, pore_distance_threshold, image_shape):\n",
        "    label_map = np.zeros(image_shape)\n",
        "\n",
        "    for i in range(image_shape[0]):\n",
        "        for j in range(image_shape[1]):\n",
        "            distances = np.sqrt((i - pore_coords[:, 0])**2 + (j - pore_coords[:, 1])**2)\n",
        "            min_distance = min(distances)\n",
        "            if min_distance < pore_distance_threshold:\n",
        "                label_map[i, j] = 1 - min_distance / pore_distance_threshold\n",
        "\n",
        "    return label_map\n",
        "\n",
        "# Define hyperparameters\n",
        "input_shape = (512, 512, 1)  # Specify your image dimensions\n",
        "d = 5  # Specify the number of layers\n",
        "pore_distance_threshold = 10  # Specify the pore distance threshold\n",
        "num_epochs = 50\n",
        "batch_size = 32\n",
        "\n",
        "# Load your dataset and obtain pore coordinates\n",
        "\n",
        "# Replace this with your dataset loading code\n",
        "pore_coords = [(154, 510), (88, 509), (188, 507), (251, 495), (146, 494), (49, 493), (69, 486), (237, 477), (97, 473), (304, 462), (89, 455), (49, 388), (42, 378), (40, 370), (160, 362), (120, 350), (145, 322), (111, 318), (36, 314), (136, 296), (124, 271), (118, 259), (15, 218), (41, 193), (448, 92), (103, 89), (85, 61), (147, 30), (10, 20), (469, 24), (179, 3), (283, 252), (38, 257), (20, 35), (6, 9)]\n",
        "\n",
        "# Compute the soft labels based on pore coordinates\n",
        "soft_labels = compute_soft_labels(pore_coords, 0.5, input_shape[:2])\n",
        "\n",
        "# Create the DeepPore network\n",
        "deep_pore_model = create_deep_pore_network(input_shape, d)\n",
        "\n",
        "# Compile the model\n",
        "deep_pore_model.compile(optimizer='adam', loss='mean_squared_error')\n",
        "\n",
        "# Train the model\n",
        "deep_pore_model.fit(input_data, soft_labels, epochs=num_epochs, batch_size=batch_size)\n",
        "\n",
        "# Save the trained model if needed\n",
        "# deep_pore_model.save('deep_pore_model.h5')\n"
      ],
      "metadata": {
        "colab": {
          "base_uri": "https://localhost:8080/",
          "height": 385
        },
        "id": "N1CII4I70Kpf",
        "outputId": "888f0afd-c5b6-4113-9bef-e22c91fd5b94"
      },
      "execution_count": null,
      "outputs": [
        {
          "output_type": "error",
          "ename": "TypeError",
          "evalue": "ignored",
          "traceback": [
            "\u001b[0;31m---------------------------------------------------------------------------\u001b[0m",
            "\u001b[0;31mTypeError\u001b[0m                                 Traceback (most recent call last)",
            "\u001b[0;32m<ipython-input-15-9ef8b99e6907>\u001b[0m in \u001b[0;36m<cell line: 51>\u001b[0;34m()\u001b[0m\n\u001b[1;32m     49\u001b[0m \u001b[0;34m\u001b[0m\u001b[0m\n\u001b[1;32m     50\u001b[0m \u001b[0;31m# Compute the soft labels based on pore coordinates\u001b[0m\u001b[0;34m\u001b[0m\u001b[0;34m\u001b[0m\u001b[0m\n\u001b[0;32m---> 51\u001b[0;31m \u001b[0msoft_labels\u001b[0m \u001b[0;34m=\u001b[0m \u001b[0mcompute_soft_labels\u001b[0m\u001b[0;34m(\u001b[0m\u001b[0mpore_coords\u001b[0m\u001b[0;34m,\u001b[0m \u001b[0;36m0.5\u001b[0m\u001b[0;34m,\u001b[0m \u001b[0minput_shape\u001b[0m\u001b[0;34m[\u001b[0m\u001b[0;34m:\u001b[0m\u001b[0;36m2\u001b[0m\u001b[0;34m]\u001b[0m\u001b[0;34m)\u001b[0m\u001b[0;34m\u001b[0m\u001b[0;34m\u001b[0m\u001b[0m\n\u001b[0m\u001b[1;32m     52\u001b[0m \u001b[0;34m\u001b[0m\u001b[0m\n\u001b[1;32m     53\u001b[0m \u001b[0;31m# Create the DeepPore network\u001b[0m\u001b[0;34m\u001b[0m\u001b[0;34m\u001b[0m\u001b[0m\n",
            "\u001b[0;32m<ipython-input-15-9ef8b99e6907>\u001b[0m in \u001b[0;36mcompute_soft_labels\u001b[0;34m(pore_coords, pore_distance_threshold, image_shape)\u001b[0m\n\u001b[1;32m     29\u001b[0m     \u001b[0;32mfor\u001b[0m \u001b[0mi\u001b[0m \u001b[0;32min\u001b[0m \u001b[0mrange\u001b[0m\u001b[0;34m(\u001b[0m\u001b[0mimage_shape\u001b[0m\u001b[0;34m[\u001b[0m\u001b[0;36m0\u001b[0m\u001b[0;34m]\u001b[0m\u001b[0;34m)\u001b[0m\u001b[0;34m:\u001b[0m\u001b[0;34m\u001b[0m\u001b[0;34m\u001b[0m\u001b[0m\n\u001b[1;32m     30\u001b[0m         \u001b[0;32mfor\u001b[0m \u001b[0mj\u001b[0m \u001b[0;32min\u001b[0m \u001b[0mrange\u001b[0m\u001b[0;34m(\u001b[0m\u001b[0mimage_shape\u001b[0m\u001b[0;34m[\u001b[0m\u001b[0;36m1\u001b[0m\u001b[0;34m]\u001b[0m\u001b[0;34m)\u001b[0m\u001b[0;34m:\u001b[0m\u001b[0;34m\u001b[0m\u001b[0;34m\u001b[0m\u001b[0m\n\u001b[0;32m---> 31\u001b[0;31m             \u001b[0mdistances\u001b[0m \u001b[0;34m=\u001b[0m \u001b[0mnp\u001b[0m\u001b[0;34m.\u001b[0m\u001b[0msqrt\u001b[0m\u001b[0;34m(\u001b[0m\u001b[0;34m(\u001b[0m\u001b[0mi\u001b[0m \u001b[0;34m-\u001b[0m \u001b[0mpore_coords\u001b[0m\u001b[0;34m[\u001b[0m\u001b[0;34m:\u001b[0m\u001b[0;34m,\u001b[0m \u001b[0;36m0\u001b[0m\u001b[0;34m]\u001b[0m\u001b[0;34m)\u001b[0m\u001b[0;34m**\u001b[0m\u001b[0;36m2\u001b[0m \u001b[0;34m+\u001b[0m \u001b[0;34m(\u001b[0m\u001b[0mj\u001b[0m \u001b[0;34m-\u001b[0m \u001b[0mpore_coords\u001b[0m\u001b[0;34m[\u001b[0m\u001b[0;34m:\u001b[0m\u001b[0;34m,\u001b[0m \u001b[0;36m1\u001b[0m\u001b[0;34m]\u001b[0m\u001b[0;34m)\u001b[0m\u001b[0;34m**\u001b[0m\u001b[0;36m2\u001b[0m\u001b[0;34m)\u001b[0m\u001b[0;34m\u001b[0m\u001b[0;34m\u001b[0m\u001b[0m\n\u001b[0m\u001b[1;32m     32\u001b[0m             \u001b[0mmin_distance\u001b[0m \u001b[0;34m=\u001b[0m \u001b[0mmin\u001b[0m\u001b[0;34m(\u001b[0m\u001b[0mdistances\u001b[0m\u001b[0;34m)\u001b[0m\u001b[0;34m\u001b[0m\u001b[0;34m\u001b[0m\u001b[0m\n\u001b[1;32m     33\u001b[0m             \u001b[0;32mif\u001b[0m \u001b[0mmin_distance\u001b[0m \u001b[0;34m<\u001b[0m \u001b[0mpore_distance_threshold\u001b[0m\u001b[0;34m:\u001b[0m\u001b[0;34m\u001b[0m\u001b[0;34m\u001b[0m\u001b[0m\n",
            "\u001b[0;31mTypeError\u001b[0m: list indices must be integers or slices, not tuple"
          ]
        }
      ]
    },
    {
      "cell_type": "code",
      "source": [],
      "metadata": {
        "id": "Bec-g873btYF"
      },
      "execution_count": null,
      "outputs": []
    },
    {
      "cell_type": "code",
      "source": [
        "import cv2\n",
        "\n",
        "# Load the image\n",
        "image = cv2.imread('/content/1.bmp', cv2.IMREAD_GRAYSCALE)\n",
        "\n",
        "# Apply thresholding to create a binary image\n",
        "_, binary_image = cv2.threshold(image, 128, 255, cv2.THRESH_BINARY)\n",
        "\n",
        "# Find contours in the binary image\n",
        "contours, _ = cv2.findContours(binary_image, cv2.RETR_EXTERNAL, cv2.CHAIN_APPROX_SIMPLE)\n",
        "\n",
        "# Initialize an empty list to store pore coordinates\n",
        "pore_coordinates = []\n",
        "\n",
        "# Extract pore coordinates from the contours\n",
        "for contour in contours:\n",
        "    M = cv2.moments(contour)\n",
        "    if M[\"m00\"] != 0:\n",
        "        cX = int(M[\"m10\"] / M[\"m00\"])\n",
        "        cY = int(M[\"m01\"] / M[\"m00\"])\n",
        "        pore_coordinates.append((cX, cY))\n",
        "\n",
        "# Print the pore coordinates\n",
        "print(\"Pore coordinates:\", pore_coordinates)\n"
      ],
      "metadata": {
        "colab": {
          "base_uri": "https://localhost:8080/"
        },
        "id": "nS6dDLr04156",
        "outputId": "7f17ecf8-98ff-4804-eced-a2a3edbab1bf"
      },
      "execution_count": null,
      "outputs": [
        {
          "output_type": "stream",
          "name": "stdout",
          "text": [
            "Pore coordinates: [(154, 510), (88, 509), (188, 507), (251, 495), (146, 494), (49, 493), (69, 486), (237, 477), (97, 473), (304, 462), (89, 455), (49, 388), (42, 378), (40, 370), (160, 362), (120, 350), (145, 322), (111, 318), (36, 314), (136, 296), (124, 271), (118, 259), (15, 218), (41, 193), (448, 92), (103, 89), (85, 61), (147, 30), (10, 20), (469, 24), (179, 3), (283, 252), (38, 257), (20, 35), (6, 9)]\n"
          ]
        }
      ]
    },
    {
      "cell_type": "code",
      "source": [
        "import matplotlib.pyplot as plt\n",
        "\n",
        "# Sample pore coordinates (replace with your actual coordinates)\n",
        "pore_coordinates = [(154, 510), (88, 509), (188, 507), (251, 495), (146, 494), (49, 493), (69, 486), (237, 477), (97, 473), (304, 462), (89, 455), (49, 388), (42, 378), (40, 370), (160, 362), (120, 350), (145, 322), (111, 318), (36, 314), (136, 296), (124, 271), (118, 259), (15, 218), (41, 193), (448, 92), (103, 89), (85, 61), (147, 30), (10, 20), (469, 24), (179, 3), (283, 252), (38, 257), (20, 35), (6, 9)]\n",
        "\n",
        "# Unzip the coordinates into separate lists for X and Y\n",
        "x_coords, y_coords = zip(*pore_coordinates)\n",
        "\n",
        "# Create a scatter plot of the pore coordinates\n",
        "plt.scatter(x_coords, y_coords, c='blue', marker='o', label='Pores')\n",
        "\n",
        "# Set plot labels and title\n",
        "plt.xlabel('X Coordinate')\n",
        "plt.ylabel('Y Coordinate')\n",
        "plt.title('Pore Coordinates')\n",
        "\n",
        "# Add a legend\n",
        "plt.legend()\n",
        "\n",
        "# Show the plot\n",
        "plt.show()\n"
      ],
      "metadata": {
        "colab": {
          "base_uri": "https://localhost:8080/",
          "height": 472
        },
        "id": "8atzis4L6JO9",
        "outputId": "97f12025-1f4b-42f9-91d7-c92b93990f36"
      },
      "execution_count": null,
      "outputs": [
        {
          "output_type": "display_data",
          "data": {
            "text/plain": [
              "<Figure size 640x480 with 1 Axes>"
            ],
            "image/png": "[encoded data removed]"
          },
          "metadata": {}
        }
      ]
    },
    {
      "cell_type": "code",
      "source": [
        "import tensorflow as tf\n",
        "from tensorflow import keras\n",
        "\n",
        "# Define the DeepPore CNN architecture\n",
        "def create_deep_pore_network(input_shape, d):\n",
        "    model = keras.Sequential()\n",
        "\n",
        "    # Initial convolution layer with 64 filters\n",
        "    model.add(keras.layers.Conv2D(64, (3, 3), padding='same', input_shape=input_shape))\n",
        "    model.add(keras.layers.BatchNormalization())\n",
        "    model.add(keras.layers.Activation('relu'))\n",
        "\n",
        "    # Intermediate convolution layers (1 to d-1)\n",
        "    for _ in range(d - 1):\n",
        "        model.add(keras.layers.Conv2D(64, (3, 3), padding='same'))\n",
        "        model.add(keras.layers.BatchNormalization())\n",
        "        model.add(keras.layers.Activation('relu'))\n",
        "\n",
        "    # Final convolution layer (layer d)\n",
        "    model.add(keras.layers.Conv2D(64, (3, 3), padding='same'))\n",
        "\n",
        "    return model\n",
        "\n"
      ],
      "metadata": {
        "id": "Wg_MvhB6bwZ-"
      },
      "execution_count": null,
      "outputs": []
    },
    {
      "cell_type": "code",
      "source": [
        "import cv2\n",
        "import numpy as np\n",
        "\n",
        "# Load the DeepPore model (assuming you have a saved model file)\n",
        "#deep_pore_model = keras.models.load_model('deep_pore_model.h5')\n",
        "\n",
        "# Load the fingerprint image you want to process\n",
        "image = cv2.imread('/content/1.bmp', cv2.IMREAD_GRAYSCALE)\n",
        "\n",
        "# Preprocess the image (resize and normalize as needed)\n",
        "# You should adapt this preprocessing to match the input shape of your model\n",
        "\n",
        "# Apply the DeepPore model to the preprocessed image\n",
        "pore_intensity_map = deep_pore_model.predict(np.expand_dims(image, axis=0))\n",
        "\n",
        "# The output is a pore intensity map; you can visualize or save it as needed\n",
        "# You may need to post-process and threshold the map to enhance pore positions\n",
        "\n",
        "# For visualization, you can normalize the pore intensity map (optional)\n",
        "pore_intensity_map = (pore_intensity_map - np.min(pore_intensity_map)) / (np.max(pore_intensity_map) - np.min(pore_intensity_map))\n",
        "\n",
        "# Save the pore intensity map as an image (optional)\n",
        "cv2.imwrite('pore_intensity_map.jpg', (pore_intensity_map[0] * 255).astype(np.uint8))\n"
      ],
      "metadata": {
        "colab": {
          "base_uri": "https://localhost:8080/",
          "height": 256
        },
        "id": "3laatPAjcJO_",
        "outputId": "7a06bfbb-76c3-471a-9b86-0060887247e9"
      },
      "execution_count": null,
      "outputs": [
        {
          "output_type": "error",
          "ename": "AttributeError",
          "evalue": "ignored",
          "traceback": [
            "\u001b[0;31m---------------------------------------------------------------------------\u001b[0m",
            "\u001b[0;31mAttributeError\u001b[0m                            Traceback (most recent call last)",
            "\u001b[0;32m<ipython-input-29-71ec4a60901a>\u001b[0m in \u001b[0;36m<cell line: 14>\u001b[0;34m()\u001b[0m\n\u001b[1;32m     12\u001b[0m \u001b[0;34m\u001b[0m\u001b[0m\n\u001b[1;32m     13\u001b[0m \u001b[0;31m# Apply the DeepPore model to the preprocessed image\u001b[0m\u001b[0;34m\u001b[0m\u001b[0;34m\u001b[0m\u001b[0m\n\u001b[0;32m---> 14\u001b[0;31m \u001b[0mpore_intensity_map\u001b[0m \u001b[0;34m=\u001b[0m \u001b[0mdeep_pore_model\u001b[0m\u001b[0;34m.\u001b[0m\u001b[0mpredict\u001b[0m\u001b[0;34m(\u001b[0m\u001b[0mnp\u001b[0m\u001b[0;34m.\u001b[0m\u001b[0mexpand_dims\u001b[0m\u001b[0;34m(\u001b[0m\u001b[0mimage\u001b[0m\u001b[0;34m,\u001b[0m \u001b[0maxis\u001b[0m\u001b[0;34m=\u001b[0m\u001b[0;36m0\u001b[0m\u001b[0;34m)\u001b[0m\u001b[0;34m)\u001b[0m\u001b[0;34m\u001b[0m\u001b[0;34m\u001b[0m\u001b[0m\n\u001b[0m\u001b[1;32m     15\u001b[0m \u001b[0;34m\u001b[0m\u001b[0m\n\u001b[1;32m     16\u001b[0m \u001b[0;31m# The output is a pore intensity map; you can visualize or save it as needed\u001b[0m\u001b[0;34m\u001b[0m\u001b[0;34m\u001b[0m\u001b[0m\n",
            "\u001b[0;31mAttributeError\u001b[0m: 'function' object has no attribute 'predict'"
          ]
        }
      ]
    }
  ]
}